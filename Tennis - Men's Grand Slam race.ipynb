{
 "cells": [
  {
   "cell_type": "markdown",
   "metadata": {},
   "source": [
    "# Tennis Grand Slam"
   ]
  },
  {
   "cell_type": "markdown",
   "metadata": {},
   "source": [
    "Load packages"
   ]
  },
  {
   "cell_type": "code",
   "execution_count": 1,
   "metadata": {},
   "outputs": [],
   "source": [
    "import pandas as pd\n",
    "\n",
    "#ignore warnings\n",
    "import warnings\n",
    "warnings.filterwarnings('ignore') \n",
    "\n",
    "#pandas defaults\n",
    "pd.set_option('display.max_rows', 10)\n",
    "pd.set_option('display.max_columns', 500)"
   ]
  },
  {
   "cell_type": "markdown",
   "metadata": {},
   "source": [
    "Get data from wikipedia"
   ]
  },
  {
   "cell_type": "code",
   "execution_count": 2,
   "metadata": {},
   "outputs": [],
   "source": [
    "df = pd.read_html('https://en.wikipedia.org/wiki/List_of_Grand_Slam_men%27s_singles_champions')[2]"
   ]
  },
  {
   "cell_type": "markdown",
   "metadata": {},
   "source": [
    "Prepare data"
   ]
  },
  {
   "cell_type": "code",
   "execution_count": 3,
   "metadata": {},
   "outputs": [],
   "source": [
    "# clean table\n",
    "melt = pd.melt(df, id_vars=['Year'], value_name='metric')\n",
    "melt[['Player', 'titles']] = melt['metric'].str.split('(', expand=True) \n",
    "\n",
    "# keep only Big 3\n",
    "data = melt[melt['Player'].isin(['Rafael Nadal ', 'Roger Federer ', 'Novak Djokovic '])]\n",
    "\n",
    "# number of wins running total\n",
    "data['win'] = 1\n",
    "data['sum'] = data.groupby(['Player', 'variable'])['win'].cumsum()\n",
    "\n",
    "# keep relevant field\n",
    "data = data[['Year', 'variable', 'win', 'Player', 'sum']]\n",
    "\n",
    "# add Pete Sampras data\n",
    "d = {'Year':2002, 'variable':['Australian Open', 'Wimbledon', 'US Open'], 'sum':[2,7,5], 'Player': 'Pete Sampras'}\n",
    "ps = pd.DataFrame(d)\n",
    "data = pd.concat([ps,data])"
   ]
  },
  {
   "cell_type": "code",
   "execution_count": 4,
   "metadata": {},
   "outputs": [],
   "source": [
    "# create combination of all possibilities between palyers, tournments and years\n",
    "\n",
    "# player\n",
    "p = pd.DataFrame(data['Player'].unique(), columns=['Player'])\n",
    "p['join'] = 'j'\n",
    "\n",
    "#tournment\n",
    "t = pd.DataFrame(data['variable'].unique(),columns=['variable'])\n",
    "t['join'] = 'j'\n",
    "\n",
    "# year\n",
    "y = pd.DataFrame(data['Year'].unique(),columns=['Year'])\n",
    "y['join'] = 'j'\n",
    "\n",
    "# join everything\n",
    "join = pd.merge(p, t, on='join', how='inner')\n",
    "join = pd.merge(join, y, on='join', how='inner')"
   ]
  },
  {
   "cell_type": "code",
   "execution_count": 5,
   "metadata": {},
   "outputs": [],
   "source": [
    "# finalize preparation\n",
    "fill = pd.merge(data, join, on=['Player', 'variable', 'Year'], how='right').sort_values(['Player','variable', 'Year'])\n",
    "fill[\"all_time\"] = fill.groupby(['Player', 'variable'])['sum'].transform(lambda x: x.ffill())\n",
    "fill[['win', 'all_time']] = fill[['win', 'all_time']].fillna(0).astype(int)\n",
    "\n",
    "# select relevant fields\n",
    "final = fill[['Player', 'variable', 'Year', 'win', 'all_time']]"
   ]
  },
  {
   "cell_type": "markdown",
   "metadata": {},
   "source": [
    "Save data"
   ]
  },
  {
   "cell_type": "code",
   "execution_count": 6,
   "metadata": {},
   "outputs": [
    {
     "data": {
      "text/html": [
       "<div>\n",
       "<style scoped>\n",
       "    .dataframe tbody tr th:only-of-type {\n",
       "        vertical-align: middle;\n",
       "    }\n",
       "\n",
       "    .dataframe tbody tr th {\n",
       "        vertical-align: top;\n",
       "    }\n",
       "\n",
       "    .dataframe thead th {\n",
       "        text-align: right;\n",
       "    }\n",
       "</style>\n",
       "<table border=\"1\" class=\"dataframe\">\n",
       "  <thead>\n",
       "    <tr style=\"text-align: right;\">\n",
       "      <th></th>\n",
       "      <th>Player</th>\n",
       "      <th>variable</th>\n",
       "      <th>Year</th>\n",
       "      <th>win</th>\n",
       "      <th>all_time</th>\n",
       "    </tr>\n",
       "  </thead>\n",
       "  <tbody>\n",
       "    <tr>\n",
       "      <th>189</th>\n",
       "      <td>Novak Djokovic</td>\n",
       "      <td>Australian Open</td>\n",
       "      <td>2002</td>\n",
       "      <td>0</td>\n",
       "      <td>0</td>\n",
       "    </tr>\n",
       "    <tr>\n",
       "      <th>199</th>\n",
       "      <td>Novak Djokovic</td>\n",
       "      <td>Australian Open</td>\n",
       "      <td>2003</td>\n",
       "      <td>0</td>\n",
       "      <td>0</td>\n",
       "    </tr>\n",
       "    <tr>\n",
       "      <th>190</th>\n",
       "      <td>Novak Djokovic</td>\n",
       "      <td>Australian Open</td>\n",
       "      <td>2004</td>\n",
       "      <td>0</td>\n",
       "      <td>0</td>\n",
       "    </tr>\n",
       "    <tr>\n",
       "      <th>197</th>\n",
       "      <td>Novak Djokovic</td>\n",
       "      <td>Australian Open</td>\n",
       "      <td>2005</td>\n",
       "      <td>0</td>\n",
       "      <td>0</td>\n",
       "    </tr>\n",
       "    <tr>\n",
       "      <th>191</th>\n",
       "      <td>Novak Djokovic</td>\n",
       "      <td>Australian Open</td>\n",
       "      <td>2006</td>\n",
       "      <td>0</td>\n",
       "      <td>0</td>\n",
       "    </tr>\n",
       "  </tbody>\n",
       "</table>\n",
       "</div>"
      ],
      "text/plain": [
       "              Player         variable  Year  win  all_time\n",
       "189  Novak Djokovic   Australian Open  2002    0         0\n",
       "199  Novak Djokovic   Australian Open  2003    0         0\n",
       "190  Novak Djokovic   Australian Open  2004    0         0\n",
       "197  Novak Djokovic   Australian Open  2005    0         0\n",
       "191  Novak Djokovic   Australian Open  2006    0         0"
      ]
     },
     "execution_count": 6,
     "metadata": {},
     "output_type": "execute_result"
    }
   ],
   "source": [
    "final.to_csv('grand slam.csv')\n",
    "final.head()"
   ]
  }
 ],
 "metadata": {
  "kernelspec": {
   "display_name": "Python 3",
   "language": "python",
   "name": "python3"
  },
  "language_info": {
   "codemirror_mode": {
    "name": "ipython",
    "version": 3
   },
   "file_extension": ".py",
   "mimetype": "text/x-python",
   "name": "python",
   "nbconvert_exporter": "python",
   "pygments_lexer": "ipython3",
   "version": "3.7.6"
  }
 },
 "nbformat": 4,
 "nbformat_minor": 4
}
